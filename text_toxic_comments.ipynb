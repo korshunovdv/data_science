{
 "cells": [
  {
   "cell_type": "markdown",
   "metadata": {},
   "source": [
    "Интернет-магазин «Викишоп» запускает новый сервис. Теперь пользователи могут редактировать и дополнять описания товаров, как в вики-сообществах. То есть клиенты предлагают свои правки и комментируют изменения других. Магазину нужен инструмент, который будет искать токсичные комментарии и отправлять их на модерацию. \n",
    "\n",
    "Обучим модель классифицировать комментарии на позитивные и негативные. В нашем распоряжении набор данных с разметкой о токсичности правок.\n",
    "\n",
    "Построим модель со значением метрики качества *F1* не меньше 0.75. \n",
    "\n",
    "### Описание данных\n",
    "\n",
    "Данные находятся в файле `toxic_comments.csv`. Столбец *text* в нём содержит текст комментария, а *toxic* — целевой признак."
   ]
  },
  {
   "cell_type": "markdown",
   "metadata": {},
   "source": [
    "# 1. Подготовка"
   ]
  },
  {
   "cell_type": "code",
   "execution_count": 1,
   "metadata": {},
   "outputs": [],
   "source": [
    "import pandas as pd\n",
    "import numpy as np\n",
    "from tqdm import notebook\n",
    "from matplotlib import pyplot as plt\n",
    "from nltk.stem.snowball import SnowballStemmer\n",
    "from sklearn.model_selection import train_test_split\n",
    "import nltk\n",
    "from nltk.corpus import stopwords\n",
    "from sklearn.feature_extraction.text import TfidfVectorizer\n",
    "from sklearn.linear_model import LogisticRegression\n",
    "from sklearn.metrics import f1_score, recall_score, precision_score\n",
    "import gensim.downloader as api\n"
   ]
  },
  {
   "cell_type": "code",
   "execution_count": 2,
   "metadata": {},
   "outputs": [
    {
     "name": "stdout",
     "output_type": "stream",
     "text": [
      "<class 'pandas.core.frame.DataFrame'>\n",
      "RangeIndex: 159571 entries, 0 to 159570\n",
      "Data columns (total 2 columns):\n",
      "text     159571 non-null object\n",
      "toxic    159571 non-null int64\n",
      "dtypes: int64(1), object(1)\n",
      "memory usage: 2.4+ MB\n"
     ]
    },
    {
     "data": {
      "text/html": [
       "<div>\n",
       "<style scoped>\n",
       "    .dataframe tbody tr th:only-of-type {\n",
       "        vertical-align: middle;\n",
       "    }\n",
       "\n",
       "    .dataframe tbody tr th {\n",
       "        vertical-align: top;\n",
       "    }\n",
       "\n",
       "    .dataframe thead th {\n",
       "        text-align: right;\n",
       "    }\n",
       "</style>\n",
       "<table border=\"1\" class=\"dataframe\">\n",
       "  <thead>\n",
       "    <tr style=\"text-align: right;\">\n",
       "      <th></th>\n",
       "      <th>text</th>\n",
       "      <th>toxic</th>\n",
       "    </tr>\n",
       "  </thead>\n",
       "  <tbody>\n",
       "    <tr>\n",
       "      <td>0</td>\n",
       "      <td>Explanation\\nWhy the edits made under my usern...</td>\n",
       "      <td>0</td>\n",
       "    </tr>\n",
       "    <tr>\n",
       "      <td>1</td>\n",
       "      <td>D'aww! He matches this background colour I'm s...</td>\n",
       "      <td>0</td>\n",
       "    </tr>\n",
       "    <tr>\n",
       "      <td>2</td>\n",
       "      <td>Hey man, I'm really not trying to edit war. It...</td>\n",
       "      <td>0</td>\n",
       "    </tr>\n",
       "    <tr>\n",
       "      <td>3</td>\n",
       "      <td>\"\\nMore\\nI can't make any real suggestions on ...</td>\n",
       "      <td>0</td>\n",
       "    </tr>\n",
       "    <tr>\n",
       "      <td>4</td>\n",
       "      <td>You, sir, are my hero. Any chance you remember...</td>\n",
       "      <td>0</td>\n",
       "    </tr>\n",
       "  </tbody>\n",
       "</table>\n",
       "</div>"
      ],
      "text/plain": [
       "                                                text  toxic\n",
       "0  Explanation\\nWhy the edits made under my usern...      0\n",
       "1  D'aww! He matches this background colour I'm s...      0\n",
       "2  Hey man, I'm really not trying to edit war. It...      0\n",
       "3  \"\\nMore\\nI can't make any real suggestions on ...      0\n",
       "4  You, sir, are my hero. Any chance you remember...      0"
      ]
     },
     "metadata": {},
     "output_type": "display_data"
    },
    {
     "data": {
      "text/html": [
       "<div>\n",
       "<style scoped>\n",
       "    .dataframe tbody tr th:only-of-type {\n",
       "        vertical-align: middle;\n",
       "    }\n",
       "\n",
       "    .dataframe tbody tr th {\n",
       "        vertical-align: top;\n",
       "    }\n",
       "\n",
       "    .dataframe thead th {\n",
       "        text-align: right;\n",
       "    }\n",
       "</style>\n",
       "<table border=\"1\" class=\"dataframe\">\n",
       "  <thead>\n",
       "    <tr style=\"text-align: right;\">\n",
       "      <th></th>\n",
       "      <th>text</th>\n",
       "      <th>toxic</th>\n",
       "    </tr>\n",
       "  </thead>\n",
       "  <tbody>\n",
       "    <tr>\n",
       "      <td>6</td>\n",
       "      <td>COCKSUCKER BEFORE YOU PISS AROUND ON MY WORK</td>\n",
       "      <td>1</td>\n",
       "    </tr>\n",
       "    <tr>\n",
       "      <td>12</td>\n",
       "      <td>Hey... what is it..\\n@ | talk .\\nWhat is it......</td>\n",
       "      <td>1</td>\n",
       "    </tr>\n",
       "    <tr>\n",
       "      <td>16</td>\n",
       "      <td>Bye! \\n\\nDon't look, come or think of comming ...</td>\n",
       "      <td>1</td>\n",
       "    </tr>\n",
       "    <tr>\n",
       "      <td>42</td>\n",
       "      <td>You are gay or antisemmitian? \\n\\nArchangel WH...</td>\n",
       "      <td>1</td>\n",
       "    </tr>\n",
       "    <tr>\n",
       "      <td>43</td>\n",
       "      <td>FUCK YOUR FILTHY MOTHER IN THE ASS, DRY!</td>\n",
       "      <td>1</td>\n",
       "    </tr>\n",
       "  </tbody>\n",
       "</table>\n",
       "</div>"
      ],
      "text/plain": [
       "                                                 text  toxic\n",
       "6        COCKSUCKER BEFORE YOU PISS AROUND ON MY WORK      1\n",
       "12  Hey... what is it..\\n@ | talk .\\nWhat is it......      1\n",
       "16  Bye! \\n\\nDon't look, come or think of comming ...      1\n",
       "42  You are gay or antisemmitian? \\n\\nArchangel WH...      1\n",
       "43           FUCK YOUR FILTHY MOTHER IN THE ASS, DRY!      1"
      ]
     },
     "metadata": {},
     "output_type": "display_data"
    }
   ],
   "source": [
    "data = pd.read_csv('/datasets/toxic_comments.csv')\n",
    "data.info()\n",
    "display(data.head())\n",
    "display(data[data['toxic'] == 1].head())"
   ]
  },
  {
   "cell_type": "code",
   "execution_count": 3,
   "metadata": {},
   "outputs": [
    {
     "data": {
      "text/plain": [
       "0    143346\n",
       "1     16225\n",
       "Name: toxic, dtype: int64"
      ]
     },
     "metadata": {},
     "output_type": "display_data"
    },
    {
     "data": {
      "image/png": "[encoded data removed]",
      "text/plain": [
       "<Figure size 432x288 with 1 Axes>"
      ]
     },
     "metadata": {},
     "output_type": "display_data"
    }
   ],
   "source": [
    "display(data['toxic'].value_counts())\n",
    "data['toxic'].value_counts().plot(kind='pie')\n",
    "plt.title('Соотношение комментариев.')\n",
    "plt.show()"
   ]
  },
  {
   "cell_type": "markdown",
   "metadata": {},
   "source": [
    "Соотношение токсичных комментариев к остальным почти как 1 к 10. Это не очень сбаллансировано. Возможно при обучении нам нужно будет сделать upsampling или downsamping."
   ]
  },
  {
   "cell_type": "code",
   "execution_count": 4,
   "metadata": {},
   "outputs": [],
   "source": [
    "assert data.duplicated().sum() == 0, \"Duplicates is data.\""
   ]
  },
  {
   "cell_type": "markdown",
   "metadata": {},
   "source": [
    "Дубикаты отсутствуют."
   ]
  },
  {
   "cell_type": "markdown",
   "metadata": {},
   "source": [
    "# 2. Обучение"
   ]
  },
  {
   "cell_type": "code",
   "execution_count": 5,
   "metadata": {},
   "outputs": [
    {
     "data": {
      "text/html": [
       "<div>\n",
       "<style scoped>\n",
       "    .dataframe tbody tr th:only-of-type {\n",
       "        vertical-align: middle;\n",
       "    }\n",
       "\n",
       "    .dataframe tbody tr th {\n",
       "        vertical-align: top;\n",
       "    }\n",
       "\n",
       "    .dataframe thead th {\n",
       "        text-align: right;\n",
       "    }\n",
       "</style>\n",
       "<table border=\"1\" class=\"dataframe\">\n",
       "  <thead>\n",
       "    <tr style=\"text-align: right;\">\n",
       "      <th></th>\n",
       "      <th>text</th>\n",
       "      <th>toxic</th>\n",
       "      <th>lemm_text</th>\n",
       "    </tr>\n",
       "  </thead>\n",
       "  <tbody>\n",
       "    <tr>\n",
       "      <td>0</td>\n",
       "      <td>Explanation\\nWhy the edits made under my usern...</td>\n",
       "      <td>0</td>\n",
       "      <td>explan whi the edit made under my usernam hard...</td>\n",
       "    </tr>\n",
       "    <tr>\n",
       "      <td>1</td>\n",
       "      <td>D'aww! He matches this background colour I'm s...</td>\n",
       "      <td>0</td>\n",
       "      <td>d'aww! he match this background colour i'm see...</td>\n",
       "    </tr>\n",
       "    <tr>\n",
       "      <td>2</td>\n",
       "      <td>Hey man, I'm really not trying to edit war. It...</td>\n",
       "      <td>0</td>\n",
       "      <td>hey man, i'm realli not tri to edit war. it ju...</td>\n",
       "    </tr>\n",
       "    <tr>\n",
       "      <td>3</td>\n",
       "      <td>\"\\nMore\\nI can't make any real suggestions on ...</td>\n",
       "      <td>0</td>\n",
       "      <td>\" more i can't make ani real suggest on improv...</td>\n",
       "    </tr>\n",
       "    <tr>\n",
       "      <td>4</td>\n",
       "      <td>You, sir, are my hero. Any chance you remember...</td>\n",
       "      <td>0</td>\n",
       "      <td>you, sir, are my hero. ani chanc you rememb wh...</td>\n",
       "    </tr>\n",
       "  </tbody>\n",
       "</table>\n",
       "</div>"
      ],
      "text/plain": [
       "                                                text  toxic  \\\n",
       "0  Explanation\\nWhy the edits made under my usern...      0   \n",
       "1  D'aww! He matches this background colour I'm s...      0   \n",
       "2  Hey man, I'm really not trying to edit war. It...      0   \n",
       "3  \"\\nMore\\nI can't make any real suggestions on ...      0   \n",
       "4  You, sir, are my hero. Any chance you remember...      0   \n",
       "\n",
       "                                           lemm_text  \n",
       "0  explan whi the edit made under my usernam hard...  \n",
       "1  d'aww! he match this background colour i'm see...  \n",
       "2  hey man, i'm realli not tri to edit war. it ju...  \n",
       "3  \" more i can't make ani real suggest on improv...  \n",
       "4  you, sir, are my hero. ani chanc you rememb wh...  "
      ]
     },
     "execution_count": 5,
     "metadata": {},
     "output_type": "execute_result"
    }
   ],
   "source": [
    "stemmer = SnowballStemmer(\"english\")\n",
    "def stem_text(text):\n",
    "    stemed_text = []\n",
    "    for word in text.split():\n",
    "        stemed_text.append(stemmer.stem(word))\n",
    "    return ' '.join(stemed_text)\n",
    "\n",
    "data['lemm_text'] = data['text'].apply(stem_text)\n",
    "data.head()"
   ]
  },
  {
   "cell_type": "code",
   "execution_count": 6,
   "metadata": {},
   "outputs": [
    {
     "data": {
      "text/plain": [
       "((111699,), (111699,))"
      ]
     },
     "execution_count": 6,
     "metadata": {},
     "output_type": "execute_result"
    }
   ],
   "source": [
    "features = data['lemm_text']\n",
    "target = data['toxic']\n",
    "\n",
    "features_train, features_tmp, target_train, target_tmp = train_test_split(\n",
    "    features, target, test_size=0.3, random_state=12345\n",
    ")\n",
    "features_valid, features_test, target_valid, target_test = train_test_split(\n",
    "    features_tmp, target_tmp, test_size=0.5, random_state=12345\n",
    ")\n",
    "assert (\n",
    "    features_train.shape[0] \n",
    "    + features_valid.shape[0] \n",
    "    + features_test.shape[0]\n",
    ") == features.shape[0], 'Wrong split'\n",
    "\n",
    "features_train.shape,  target_train.shape"
   ]
  },
  {
   "cell_type": "markdown",
   "metadata": {},
   "source": [
    "## TF IDF Vectorizer and LogisticRegression "
   ]
  },
  {
   "cell_type": "code",
   "execution_count": 7,
   "metadata": {},
   "outputs": [
    {
     "name": "stderr",
     "output_type": "stream",
     "text": [
      "[nltk_data] Downloading package stopwords to /home/jovyan/nltk_data...\n",
      "[nltk_data]   Package stopwords is already up-to-date!\n"
     ]
    }
   ],
   "source": [
    "nltk.download('stopwords')\n",
    "stop_words_eng = set(stopwords.words('english'))\n",
    "tf_idf_vectorizer = TfidfVectorizer(stop_words=stop_words_eng)\n",
    "tf_idf_vectorizer.fit(features_train)\n",
    "tfidf_features_train = tf_idf_vectorizer.transform(features_train)\n",
    "tfidf_features_valid = tf_idf_vectorizer.transform(features_valid)"
   ]
  },
  {
   "cell_type": "code",
   "execution_count": 8,
   "metadata": {},
   "outputs": [
    {
     "name": "stdout",
     "output_type": "stream",
     "text": [
      "F1 score on train data 0.836\n",
      "Precision on train data 0.7366337962031261\n",
      "Recall on train data 0.9676594994712725\n",
      "\n",
      "F1 score on valid data 0.749\n",
      "Precision on valid data 0.6702369360597209\n",
      "Recall on valid data 0.8497942386831275\n"
     ]
    }
   ],
   "source": [
    "model = LogisticRegression(solver='liblinear', max_iter=1000, class_weight='balanced')\n",
    "model.fit(tfidf_features_train, target_train)\n",
    "predicted_train = model.predict(tfidf_features_train)\n",
    "predicted_valid = model.predict(tfidf_features_valid)\n",
    "f1 = f1_score(target_valid, predicted_valid)\n",
    "\n",
    "print(f'F1 score on train data {f1_score(target_train, predicted_train):.3f}')\n",
    "print(f'Precision on train data {precision_score(target_train, predicted_train)}')\n",
    "print(f'Recall on train data {recall_score(target_train, predicted_train)}')\n",
    "print()\n",
    "print(f'F1 score on valid data {f1:.3f}')\n",
    "print(f'Precision on valid data {precision_score(target_valid, predicted_valid)}')\n",
    "print(f'Recall on valid data {recall_score(target_valid, predicted_valid)}')"
   ]
  },
  {
   "cell_type": "markdown",
   "metadata": {},
   "source": [
    "## Вывод\n",
    "Мы почти достигли нашей цели в скоре F1 на  TF IDF Vectorizer и линейной регрессии.\n",
    "Если объеденить трэй и валид и обучить модель на них, думаю цель будет достигнута.\n",
    "\n",
    "Попробуем еще один способ векторизации."
   ]
  },
  {
   "cell_type": "markdown",
   "metadata": {},
   "source": [
    "## Gensim and LogisticRegression "
   ]
  },
  {
   "cell_type": "code",
   "execution_count": 9,
   "metadata": {},
   "outputs": [
    {
     "name": "stdout",
     "output_type": "stream",
     "text": [
      "[('hey', 0.8247329592704773), ('hi', 0.790764570236206), ('welcome', 0.7881895303726196), ('dear', 0.7727690935134888), ('morning', 0.7323523759841919), ('miss', 0.7135189771652222), ('thanks', 0.7124098539352417), ('yes', 0.7090976238250732), ('thank', 0.7074065208435059), ('babe', 0.691576361656189)]\n",
      "[ 0.55793    0.10748   -0.57491    0.4877    -0.37792   -0.036457\n",
      "  1.0581     0.059584  -0.19582   -0.41366    0.054969   0.10674\n",
      " -2.7076    -0.50818   -0.47456    0.32746    0.41643   -0.53607\n",
      " -0.24822   -0.63456   -0.075781  -1.1904    -0.72504    0.19499\n",
      "  0.029645  -0.98157    0.27081    0.32472    0.51154   -0.86702\n",
      " -0.36342    0.14098   -0.44251    0.24804    0.14021   -0.042186\n",
      "  0.10408    0.23267    0.26663    0.40316   -0.91011    0.049339\n",
      "  0.14842    0.70496   -0.013448   0.35591   -0.23494   -0.83828\n",
      "  0.0069803  0.44702   -0.27031    0.0032742  0.13265   -0.68583\n",
      "  0.90147    0.60725   -0.1849     0.086123  -0.1693    -0.48741\n",
      "  0.33445   -0.10119   -0.054273  -0.35999   -0.48967   -0.36699\n",
      " -0.91001   -0.38762    0.14981    0.14092    0.6064    -0.2507\n",
      "  0.1582    -0.33841   -0.025642   0.16793   -0.045698   0.62762\n",
      "  0.30663    0.25571    1.5495    -0.40935    0.34489    0.11414\n",
      "  0.11457   -0.31949   -0.26473    0.2956     0.67942   -0.19812\n",
      "  0.31416   -0.37571   -0.52265    0.042794  -0.35241   -0.057055\n",
      "  0.27578    0.04565    0.27945    0.11518  ]\n"
     ]
    }
   ],
   "source": [
    "# Используем предобученную модель Gensim\n",
    "vectorizer = api.load('glove-twitter-100')\n",
    "print(vectorizer.most_similar('hello'))\n",
    "print(vectorizer.get_vector('hello'))"
   ]
  },
  {
   "cell_type": "code",
   "execution_count": 10,
   "metadata": {},
   "outputs": [],
   "source": [
    "def get_phrase_embedding(words):\n",
    "    \"\"\"\n",
    "    Convert phrase to a vector by aggregating it's word embeddings. See description above.\n",
    "    \"\"\"  \n",
    "    vector = np.zeros([vectorizer.vector_size], dtype='float32')\n",
    "    counter = 0\n",
    "    for word in words:\n",
    "        if word in vectorizer:\n",
    "            counter += 1\n",
    "            word_vector = vectorizer.get_vector(word)\n",
    "            vector += word_vector\n",
    "    return vector / max(counter, 1)\n"
   ]
  },
  {
   "cell_type": "code",
   "execution_count": 11,
   "metadata": {},
   "outputs": [
    {
     "data": {
      "application/vnd.jupyter.widget-view+json": {
       "model_id": "84ede687d3fa46fbb18a69f3783b5c42",
       "version_major": 2,
       "version_minor": 0
      },
      "text/plain": [
       "HBox(children=(FloatProgress(value=0.0, max=111699.0), HTML(value='')))"
      ]
     },
     "metadata": {},
     "output_type": "display_data"
    },
    {
     "name": "stdout",
     "output_type": "stream",
     "text": [
      "\n",
      "111699\n"
     ]
    },
    {
     "data": {
      "application/vnd.jupyter.widget-view+json": {
       "model_id": "e63aeeb156db4839b01ac36ed24d20cd",
       "version_major": 2,
       "version_minor": 0
      },
      "text/plain": [
       "HBox(children=(FloatProgress(value=0.0, max=23936.0), HTML(value='')))"
      ]
     },
     "metadata": {},
     "output_type": "display_data"
    },
    {
     "name": "stdout",
     "output_type": "stream",
     "text": [
      "\n",
      "23936\n"
     ]
    }
   ],
   "source": [
    "gensim_features_train = []\n",
    "for words in notebook.tqdm(features_train):\n",
    "    gensim_features_train.append(get_phrase_embedding(words))\n",
    "    \n",
    "print(len(gensim_features_train))\n",
    "\n",
    "gensim_features_valid = []\n",
    "for words in notebook.tqdm(features_valid):\n",
    "    gensim_features_valid.append(get_phrase_embedding(words))\n",
    "    \n",
    "print(len(gensim_features_valid))"
   ]
  },
  {
   "cell_type": "code",
   "execution_count": 12,
   "metadata": {},
   "outputs": [
    {
     "name": "stdout",
     "output_type": "stream",
     "text": [
      "F1 score on train data 0.393\n",
      "Precision on train data 0.27517609996106335\n",
      "Recall on train data 0.6850546351780049\n",
      "\n",
      "F1 score on valid data 0.397\n",
      "Precision on valid data 0.2769884043769394\n",
      "Recall on valid data 0.6979423868312757\n"
     ]
    }
   ],
   "source": [
    "model = LogisticRegression(solver='liblinear', max_iter=1000, class_weight='balanced')\n",
    "model.fit(gensim_features_train, target_train)\n",
    "predicted_train = model.predict(gensim_features_train)\n",
    "predicted_valid = model.predict(gensim_features_valid)\n",
    "f1 = f1_score(target_valid, predicted_valid)\n",
    "\n",
    "print(f'F1 score on train data {f1_score(target_train, predicted_train):.3f}')\n",
    "print(f'Precision on train data {precision_score(target_train, predicted_train)}')\n",
    "print(f'Recall on train data {recall_score(target_train, predicted_train)}')\n",
    "print()\n",
    "print(f'F1 score on valid data {f1:.3f}')\n",
    "print(f'Precision on valid data {precision_score(target_valid, predicted_valid)}')\n",
    "print(f'Recall on valid data {recall_score(target_valid, predicted_valid)}')"
   ]
  },
  {
   "cell_type": "markdown",
   "metadata": {},
   "source": [
    "## Вывод\n",
    "С использованием Gensim нам не удалось добиться значительной точности.\n",
    "\n",
    "Поэтому остановимся на TF IDF Vectorizer."
   ]
  },
  {
   "cell_type": "code",
   "execution_count": 13,
   "metadata": {},
   "outputs": [
    {
     "name": "stderr",
     "output_type": "stream",
     "text": [
      "[nltk_data] Downloading package stopwords to /home/jovyan/nltk_data...\n",
      "[nltk_data]   Package stopwords is already up-to-date!\n"
     ]
    },
    {
     "name": "stdout",
     "output_type": "stream",
     "text": [
      "F1 score on train data 0.832\n",
      "Precision on train data 0.7320405464962538\n",
      "Recall on train data 0.9644360574829438\n",
      "\n",
      "F1 score on valid data 0.758\n",
      "Precision on valid data 0.6787330316742082\n",
      "Recall on valid data 0.8581937065794851\n"
     ]
    }
   ],
   "source": [
    "features_train = pd.concat([features_train, features_valid])\n",
    "target_train = pd.concat([target_train, target_valid])\n",
    "\n",
    "nltk.download('stopwords')\n",
    "stop_words_eng = set(stopwords.words('english'))\n",
    "tf_idf_vectorizer = TfidfVectorizer(stop_words=stop_words_eng)\n",
    "tf_idf_vectorizer.fit(features_train)\n",
    "\n",
    "\n",
    "features_train = tf_idf_vectorizer.transform(features_train)\n",
    "\n",
    "features_test = tf_idf_vectorizer.transform(features_test)\n",
    "\n",
    "model = LogisticRegression(solver='liblinear', max_iter=1000, class_weight='balanced')\n",
    "model.fit(features_train, target_train)\n",
    "predicted_train = model.predict(features_train)\n",
    "predicted_test = model.predict(features_test)\n",
    "f1 = f1_score(target_test, predicted_test)\n",
    "\n",
    "print(f'F1 score on train data {f1_score(target_train, predicted_train):.3f}')\n",
    "print(f'Precision on train data {precision_score(target_train, predicted_train)}')\n",
    "print(f'Recall on train data {recall_score(target_train, predicted_train)}')\n",
    "print()\n",
    "print(f'F1 score on valid data {f1:.3f}')\n",
    "print(f'Precision on valid data {precision_score(target_test, predicted_test)}')\n",
    "print(f'Recall on valid data {recall_score(target_test, predicted_test)}')"
   ]
  },
  {
   "cell_type": "markdown",
   "metadata": {},
   "source": [
    "# 3. Выводы"
   ]
  },
  {
   "cell_type": "markdown",
   "metadata": {},
   "source": [
    "Целевое значение F1 в 0.75 достигнуто. Что это значит? \n",
    "\n",
    "Мы имеем значение Precizion - 0.67, т.е. если наша модель отметит комментарий как токчичный, то это так и есть с вероятностью 67%.\n",
    "\n",
    "Значение Recall - 0.85, говорит о том, что наша модель распознает 85% токичных комментариев, и только 15% смогут обойти нашу модель.\n",
    "\n",
    "В итоге результат был достигнут за счет сочетания токенизатора - SnowballStemmer, векторизатора - TfidfVectorizer и старой доброй логистической регрессии."
   ]
  }
 ],
 "metadata": {
  "kernelspec": {
   "display_name": "Python 3",
   "language": "python",
   "name": "python3"
  },
  "language_info": {
   "codemirror_mode": {
    "name": "ipython",
    "version": 3
   },
   "file_extension": ".py",
   "mimetype": "text/x-python",
   "name": "python",
   "nbconvert_exporter": "python",
   "pygments_lexer": "ipython3",
   "version": "3.7.4"
  },
  "toc": {
   "base_numbering": 1,
   "nav_menu": {},
   "number_sections": true,
   "sideBar": true,
   "skip_h1_title": false,
   "title_cell": "Table of Contents",
   "title_sidebar": "Contents",
   "toc_cell": false,
   "toc_position": {},
   "toc_section_display": true,
   "toc_window_display": false
  }
 },
 "nbformat": 4,
 "nbformat_minor": 2
}
