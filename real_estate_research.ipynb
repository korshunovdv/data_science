{
 "cells": [
  {
   "cell_type": "markdown",
   "metadata": {},
   "source": [
    "# Исследование объявлений о продаже квартир\n",
    "\n",
    "В вашем распоряжении данные сервиса Яндекс.Недвижимость — архив объявлений о продаже квартир в Санкт-Петербурге и соседних населённых пунктов за несколько лет. Нужно научиться определять рыночную стоимость объектов недвижимости. Ваша задача — установить параметры. Это позволит построить автоматизированную систему: она отследит аномалии и мошенническую деятельность. \n",
    "\n",
    "По каждой квартире на продажу доступны два вида данных. Первые вписаны пользователем, вторые — получены автоматически на основе картографических данных. Например, расстояние до центра, аэропорта, ближайшего парка и водоёма. "
   ]
  },
  {
   "cell_type": "markdown",
   "metadata": {},
   "source": [
    "### Шаг 1. Откройте файл с данными и изучите общую информацию. "
   ]
  },
  {
   "cell_type": "code",
   "execution_count": 1,
   "metadata": {},
   "outputs": [
    {
     "name": "stdout",
     "output_type": "stream",
     "text": [
      "<class 'pandas.core.frame.DataFrame'>\n",
      "RangeIndex: 23699 entries, 0 to 23698\n",
      "Data columns (total 22 columns):\n",
      "total_images            23699 non-null int64\n",
      "last_price              23699 non-null float64\n",
      "total_area              23699 non-null float64\n",
      "first_day_exposition    23699 non-null object\n",
      "rooms                   23699 non-null int64\n",
      "ceiling_height          14504 non-null float64\n",
      "floors_total            23613 non-null float64\n",
      "living_area             21796 non-null float64\n",
      "floor                   23699 non-null int64\n",
      "is_apartment            2775 non-null object\n",
      "studio                  23699 non-null bool\n",
      "open_plan               23699 non-null bool\n",
      "kitchen_area            21421 non-null float64\n",
      "balcony                 12180 non-null float64\n",
      "locality_name           23650 non-null object\n",
      "airports_nearest        18157 non-null float64\n",
      "cityCenters_nearest     18180 non-null float64\n",
      "parks_around3000        18181 non-null float64\n",
      "parks_nearest           8079 non-null float64\n",
      "ponds_around3000        18181 non-null float64\n",
      "ponds_nearest           9110 non-null float64\n",
      "days_exposition         20518 non-null float64\n",
      "dtypes: bool(2), float64(14), int64(3), object(3)\n",
      "memory usage: 3.7+ MB\n"
     ]
    },
    {
     "data": {
      "text/html": [
       "<div>\n",
       "<style scoped>\n",
       "    .dataframe tbody tr th:only-of-type {\n",
       "        vertical-align: middle;\n",
       "    }\n",
       "\n",
       "    .dataframe tbody tr th {\n",
       "        vertical-align: top;\n",
       "    }\n",
       "\n",
       "    .dataframe thead th {\n",
       "        text-align: right;\n",
       "    }\n",
       "</style>\n",
       "<table border=\"1\" class=\"dataframe\">\n",
       "  <thead>\n",
       "    <tr style=\"text-align: right;\">\n",
       "      <th></th>\n",
       "      <th>total_images</th>\n",
       "      <th>last_price</th>\n",
       "      <th>total_area</th>\n",
       "      <th>first_day_exposition</th>\n",
       "      <th>rooms</th>\n",
       "      <th>ceiling_height</th>\n",
       "      <th>floors_total</th>\n",
       "      <th>living_area</th>\n",
       "      <th>floor</th>\n",
       "      <th>is_apartment</th>\n",
       "      <th>...</th>\n",
       "      <th>kitchen_area</th>\n",
       "      <th>balcony</th>\n",
       "      <th>locality_name</th>\n",
       "      <th>airports_nearest</th>\n",
       "      <th>cityCenters_nearest</th>\n",
       "      <th>parks_around3000</th>\n",
       "      <th>parks_nearest</th>\n",
       "      <th>ponds_around3000</th>\n",
       "      <th>ponds_nearest</th>\n",
       "      <th>days_exposition</th>\n",
       "    </tr>\n",
       "  </thead>\n",
       "  <tbody>\n",
       "    <tr>\n",
       "      <td>0</td>\n",
       "      <td>20</td>\n",
       "      <td>13000000.0</td>\n",
       "      <td>108.0</td>\n",
       "      <td>2019-03-07T00:00:00</td>\n",
       "      <td>3</td>\n",
       "      <td>2.70</td>\n",
       "      <td>16.0</td>\n",
       "      <td>51.0</td>\n",
       "      <td>8</td>\n",
       "      <td>NaN</td>\n",
       "      <td>...</td>\n",
       "      <td>25.0</td>\n",
       "      <td>NaN</td>\n",
       "      <td>Санкт-Петербург</td>\n",
       "      <td>18863.0</td>\n",
       "      <td>16028.0</td>\n",
       "      <td>1.0</td>\n",
       "      <td>482.0</td>\n",
       "      <td>2.0</td>\n",
       "      <td>755.0</td>\n",
       "      <td>NaN</td>\n",
       "    </tr>\n",
       "    <tr>\n",
       "      <td>1</td>\n",
       "      <td>7</td>\n",
       "      <td>3350000.0</td>\n",
       "      <td>40.4</td>\n",
       "      <td>2018-12-04T00:00:00</td>\n",
       "      <td>1</td>\n",
       "      <td>NaN</td>\n",
       "      <td>11.0</td>\n",
       "      <td>18.6</td>\n",
       "      <td>1</td>\n",
       "      <td>NaN</td>\n",
       "      <td>...</td>\n",
       "      <td>11.0</td>\n",
       "      <td>2.0</td>\n",
       "      <td>посёлок Шушары</td>\n",
       "      <td>12817.0</td>\n",
       "      <td>18603.0</td>\n",
       "      <td>0.0</td>\n",
       "      <td>NaN</td>\n",
       "      <td>0.0</td>\n",
       "      <td>NaN</td>\n",
       "      <td>81.0</td>\n",
       "    </tr>\n",
       "    <tr>\n",
       "      <td>2</td>\n",
       "      <td>10</td>\n",
       "      <td>5196000.0</td>\n",
       "      <td>56.0</td>\n",
       "      <td>2015-08-20T00:00:00</td>\n",
       "      <td>2</td>\n",
       "      <td>NaN</td>\n",
       "      <td>5.0</td>\n",
       "      <td>34.3</td>\n",
       "      <td>4</td>\n",
       "      <td>NaN</td>\n",
       "      <td>...</td>\n",
       "      <td>8.3</td>\n",
       "      <td>0.0</td>\n",
       "      <td>Санкт-Петербург</td>\n",
       "      <td>21741.0</td>\n",
       "      <td>13933.0</td>\n",
       "      <td>1.0</td>\n",
       "      <td>90.0</td>\n",
       "      <td>2.0</td>\n",
       "      <td>574.0</td>\n",
       "      <td>558.0</td>\n",
       "    </tr>\n",
       "    <tr>\n",
       "      <td>3</td>\n",
       "      <td>0</td>\n",
       "      <td>64900000.0</td>\n",
       "      <td>159.0</td>\n",
       "      <td>2015-07-24T00:00:00</td>\n",
       "      <td>3</td>\n",
       "      <td>NaN</td>\n",
       "      <td>14.0</td>\n",
       "      <td>NaN</td>\n",
       "      <td>9</td>\n",
       "      <td>NaN</td>\n",
       "      <td>...</td>\n",
       "      <td>NaN</td>\n",
       "      <td>0.0</td>\n",
       "      <td>Санкт-Петербург</td>\n",
       "      <td>28098.0</td>\n",
       "      <td>6800.0</td>\n",
       "      <td>2.0</td>\n",
       "      <td>84.0</td>\n",
       "      <td>3.0</td>\n",
       "      <td>234.0</td>\n",
       "      <td>424.0</td>\n",
       "    </tr>\n",
       "    <tr>\n",
       "      <td>4</td>\n",
       "      <td>2</td>\n",
       "      <td>10000000.0</td>\n",
       "      <td>100.0</td>\n",
       "      <td>2018-06-19T00:00:00</td>\n",
       "      <td>2</td>\n",
       "      <td>3.03</td>\n",
       "      <td>14.0</td>\n",
       "      <td>32.0</td>\n",
       "      <td>13</td>\n",
       "      <td>NaN</td>\n",
       "      <td>...</td>\n",
       "      <td>41.0</td>\n",
       "      <td>NaN</td>\n",
       "      <td>Санкт-Петербург</td>\n",
       "      <td>31856.0</td>\n",
       "      <td>8098.0</td>\n",
       "      <td>2.0</td>\n",
       "      <td>112.0</td>\n",
       "      <td>1.0</td>\n",
       "      <td>48.0</td>\n",
       "      <td>121.0</td>\n",
       "    </tr>\n",
       "  </tbody>\n",
       "</table>\n",
       "<p>5 rows × 22 columns</p>\n",
       "</div>"
      ],
      "text/plain": [
       "   total_images  last_price  total_area first_day_exposition  rooms  \\\n",
       "0            20  13000000.0       108.0  2019-03-07T00:00:00      3   \n",
       "1             7   3350000.0        40.4  2018-12-04T00:00:00      1   \n",
       "2            10   5196000.0        56.0  2015-08-20T00:00:00      2   \n",
       "3             0  64900000.0       159.0  2015-07-24T00:00:00      3   \n",
       "4             2  10000000.0       100.0  2018-06-19T00:00:00      2   \n",
       "\n",
       "   ceiling_height  floors_total  living_area  floor is_apartment  ...  \\\n",
       "0            2.70          16.0         51.0      8          NaN  ...   \n",
       "1             NaN          11.0         18.6      1          NaN  ...   \n",
       "2             NaN           5.0         34.3      4          NaN  ...   \n",
       "3             NaN          14.0          NaN      9          NaN  ...   \n",
       "4            3.03          14.0         32.0     13          NaN  ...   \n",
       "\n",
       "   kitchen_area  balcony    locality_name  airports_nearest  \\\n",
       "0          25.0      NaN  Санкт-Петербург           18863.0   \n",
       "1          11.0      2.0   посёлок Шушары           12817.0   \n",
       "2           8.3      0.0  Санкт-Петербург           21741.0   \n",
       "3           NaN      0.0  Санкт-Петербург           28098.0   \n",
       "4          41.0      NaN  Санкт-Петербург           31856.0   \n",
       "\n",
       "  cityCenters_nearest  parks_around3000  parks_nearest  ponds_around3000  \\\n",
       "0             16028.0               1.0          482.0               2.0   \n",
       "1             18603.0               0.0            NaN               0.0   \n",
       "2             13933.0               1.0           90.0               2.0   \n",
       "3              6800.0               2.0           84.0               3.0   \n",
       "4              8098.0               2.0          112.0               1.0   \n",
       "\n",
       "   ponds_nearest  days_exposition  \n",
       "0          755.0              NaN  \n",
       "1            NaN             81.0  \n",
       "2          574.0            558.0  \n",
       "3          234.0            424.0  \n",
       "4           48.0            121.0  \n",
       "\n",
       "[5 rows x 22 columns]"
      ]
     },
     "execution_count": 1,
     "metadata": {},
     "output_type": "execute_result"
    }
   ],
   "source": [
    "import pandas as pd\n",
    "import matplotlib.pyplot as plt\n",
    "from pymystem3 import Mystem\n",
    "from collections import Counter\n",
    "\n",
    "data = pd.read_csv('datasets/real_estate_data.csv', sep='\\t')\n",
    "data.info()\n",
    "data.head()"
   ]
  },
  {
   "cell_type": "markdown",
   "metadata": {},
   "source": [
    "### Вывод"
   ]
  },
  {
   "cell_type": "markdown",
   "metadata": {},
   "source": [
    "Много столбцов содержат пропуски, в некоторых пропусков больше половины. Похоже пропускам бошье подвержена та часть, которую заполняют пользователи. Приступим к дальнейшему изучению данных."
   ]
  },
  {
   "cell_type": "markdown",
   "metadata": {},
   "source": [
    "### Шаг 2. Предобработка данных"
   ]
  },
  {
   "cell_type": "code",
   "execution_count": 2,
   "metadata": {},
   "outputs": [],
   "source": [
    "# Сделаем ряд округлений\n",
    "data['last_price'] = data['last_price'].astype('int')\n",
    "# Преобразовываем в дату\n",
    "data['first_day_exposition'] = pd.to_datetime(data['first_day_exposition'],format='%Y-%m-%dT%H:%M:%S')"
   ]
  },
  {
   "cell_type": "markdown",
   "metadata": {},
   "source": [
    "### rooms и studio"
   ]
  },
  {
   "cell_type": "code",
   "execution_count": 3,
   "metadata": {},
   "outputs": [
    {
     "name": "stdout",
     "output_type": "stream",
     "text": [
      "Посмотрим квартиры со сколькими комнатами самые распространенные:\n"
     ]
    },
    {
     "data": {
      "image/png": "[encoded data removed]",
      "text/plain": [
       "<Figure size 432x288 with 1 Axes>"
      ]
     },
     "metadata": {},
     "output_type": "display_data"
    },
    {
     "name": "stdout",
     "output_type": "stream",
     "text": [
      "Самые популярные это от 1 до 4 комнат, однако есть и странности. \n",
      "\n",
      "Квартиры где 0 комнат: 197 \n",
      "\n",
      "Из них студии: 138 \n",
      "\n",
      "И в самих студиях где-то указано 0 комнат а где-то 1 \n",
      "\n",
      "Для удобства будем считать что у студии всегда 0 комнат \n",
      "\n",
      "Теперь другая ситуация - площать квартир где 0 комнат, но это как бы не студии: \n",
      "\n",
      "count    208.000000\n",
      "mean      29.179904\n",
      "std       25.178794\n",
      "min       15.500000\n",
      "25%       24.037500\n",
      "50%       26.075000\n",
      "75%       28.600000\n",
      "max      371.000000\n",
      "Name: total_area, dtype: float64 \n",
      "\n",
      "Если не считать выбросы, то площадь похожа на студию \n",
      "\n",
      "Если что-то выглядит как утка, крякает как утка, то это утка)\n"
     ]
    }
   ],
   "source": [
    "print('Посмотрим квартиры со сколькими комнатами самые распространенные:')\n",
    "data['rooms'].value_counts().plot(kind='pie')\n",
    "plt.show()\n",
    "print('Самые популярные это от 1 до 4 комнат, однако есть и странности.','\\n')\n",
    "print('Квартиры где 0 комнат:',len(data[data['rooms'] == 0]),'\\n')\n",
    "print('Из них студии:', data[data['rooms'] == 0]['studio'].sum(),'\\n')\n",
    "print('И в самих студиях где-то указано 0 комнат а где-то 1','\\n')\n",
    "data[data['studio'] == True]['rooms'].value_counts()\n",
    "print('Для удобства будем считать что у студии всегда 0 комнат','\\n')\n",
    "data.loc[data['studio'] == True,'rooms'] = 0\n",
    "# А что с теми квартирами где указано 0 комнат, но флаг студия False?\n",
    "print('Теперь другая ситуация - площать квартир где 0 комнат, но это как бы не студии:','\\n')\n",
    "print(data[data['rooms'] == 0]['total_area'].describe(),'\\n')\n",
    "print('Если не считать выбросы, то площадь похожа на студию','\\n')\n",
    "# Укажем что квартиры с 0 компат - это студии.\n",
    "data.loc[data['rooms'] == 0,'studio'] = True\n",
    "print('Если что-то выглядит как утка, крякает как утка, то это утка)')"
   ]
  },
  {
   "cell_type": "markdown",
   "metadata": {},
   "source": [
    "### 'ceiling_height'\n",
    "Имеем 9195 пропусков. Это почти половина датасета. При построении ящика с усами видим 782 выброса, это потолки ниже 2.25 м, и выше 3.25. Будем считать эти данные ошибкой ввода пользователя и обнулим их для дальнейшего заполнения. Все пропуски заполним медианой."
   ]
  },
  {
   "cell_type": "code",
   "execution_count": 4,
   "metadata": {
    "scrolled": true
   },
   "outputs": [
    {
     "data": {
      "image/png": "[encoded data removed]",
      "text/plain": [
       "<Figure size 432x288 with 1 Axes>"
      ]
     },
     "metadata": {
      "needs_background": "light"
     },
     "output_type": "display_data"
    },
    {
     "data": {
      "image/png": "[encoded data removed]",
      "text/plain": [
       "<Figure size 432x288 with 1 Axes>"
      ]
     },
     "metadata": {
      "needs_background": "light"
     },
     "output_type": "display_data"
    },
    {
     "name": "stdout",
     "output_type": "stream",
     "text": [
      "Всего выбросов: 782\n"
     ]
    }
   ],
   "source": [
    "# Построим гистограмму, что бы найти самые распространные варианты высоты полков\n",
    "data['ceiling_height'].hist(bins=30, range=(2,4))\n",
    "plt.show()\n",
    "# Строим график ящик с усами\n",
    "data.boxplot(column='ceiling_height')\n",
    "# Ограничим ось для лучшей видимости результатов\n",
    "plt.ylim((2,3.5))\n",
    "plt.show()\n",
    "# Считаем количество выбросов\n",
    "print(\"Всего выбросов:\", len(data.query('ceiling_height > 3.25 or ceiling_height < 2.25')))\n",
    "\n",
    "# Обнуляем выбросы\n",
    "data.loc[(data['ceiling_height']>3.25) | (data['ceiling_height']<2.25), 'ceiling_height'] = float('NaN')\n",
    "\n",
    "# Считаем медиану\n",
    "median_ceiling_height = data['ceiling_height'].median()\n",
    "\n",
    "# Заполняем пропуски медианой\n",
    "data['ceiling_height'] = data['ceiling_height'].fillna(median_ceiling_height)"
   ]
  },
  {
   "cell_type": "markdown",
   "metadata": {},
   "source": [
    "### 'floors_total' \n",
    "Обрабатываем 86 пропусков. Так как не удалось найти взамосвязи этих пропусков с другими столбцами, предолагаю что пропуски возникли из-за того, что пользователь не ввел данную информацию. Есть два пути замены пропусков этажности дома. Первый подход - указать медиану. Второй подход -  оттолкнуться от популярности серии домов, т.е. самые популярные это пятиэтажные, на втором девятиэтажные и т.д. И если этаж не превышает пятый, считать пятиэтажкой и так дале. Так как количество пропусков небольшое - всего 0,4%, выберу подход с медианой, т.к. он проще."
   ]
  },
  {
   "cell_type": "code",
   "execution_count": 5,
   "metadata": {},
   "outputs": [
    {
     "name": "stdout",
     "output_type": "stream",
     "text": [
      "Медианая этажность региона равна - 9 этажей\n"
     ]
    },
    {
     "data": {
      "image/png": "[encoded data removed]",
      "text/plain": [
       "<Figure size 432x288 with 1 Axes>"
      ]
     },
     "metadata": {
      "needs_background": "light"
     },
     "output_type": "display_data"
    }
   ],
   "source": [
    "# Посмотрим какая этажность домов самая распрасраненная в регионе\n",
    "data[data['floors_total'] < 35].groupby('floors_total')['floors_total'].hist(bins=31, range=(0,30))\n",
    "# Считаем медиану\n",
    "median_floors_total = data[data['floors_total'].notnull()]['floors_total'].median()\n",
    "print('Медианая этажность региона равна - %r этажей'%int(median_floors_total))\n",
    "\n",
    "def fill_flors_total(floor):\n",
    "    \"\"\" Функция для заполнения пропусков этажности зданий медианой или в случае если этаж \n",
    "        продаваемой квартиры выше медианы, за этажность тогда примем этаж самой квартиры.\n",
    "    \"\"\"\n",
    "    if floor < median_floors_total:\n",
    "        return median_floors_total\n",
    "    else:\n",
    "        return floor\n",
    "    \n",
    "# Заполняем пропуски\n",
    "data.loc[data['floors_total'].isnull(),'floors_total'] = data['floor'].apply(fill_flors_total)\n",
    "\n",
    "# Этаж не может быть не целым числом\n",
    "data['floors_total'] = data['floors_total'].astype('int')"
   ]
  },
  {
   "cell_type": "markdown",
   "metadata": {},
   "source": [
    "Кто бы сомневался, самые популярные пятиэтажки и девятиэтажки. Получаем медиану - 9 этажей. Заполняем пропуски медианой, кроме тех случаев, где этаж самой квартиры выше девятого, там за этажность примем этаж продаваемой квартиры."
   ]
  },
  {
   "cell_type": "markdown",
   "metadata": {},
   "source": [
    "### living_area\n",
    "Имеем 1903 пропуска. Мы посчитали, что средняя жилая площадь - это 54% от общей. Так и зполним пропуски."
   ]
  },
  {
   "cell_type": "code",
   "execution_count": 6,
   "metadata": {},
   "outputs": [
    {
     "name": "stdout",
     "output_type": "stream",
     "text": [
      "Количество пропусков living_area: 1903\n",
      "Медиана living_area: 30.0\n",
      "Медиана total_area: 52.0\n",
      "Медиана к медиане: 0.5769230769230769\n",
      "Среднее к среднему: 0.5441876808779206\n"
     ]
    }
   ],
   "source": [
    "print('Количество пропусков living_area:', data['living_area'].isna().sum())\n",
    "print('Медиана living_area:', data['living_area'].median())\n",
    "print('Медиана total_area:', data['total_area'].median())\n",
    "# Посммотрим сколько примерное в процентах занимаем жилая площадь от общей\n",
    "total_to_livin_ratio_by_median = data['living_area'].median() / data['total_area'].median()\n",
    "print('Медиана к медиане:', total_to_livin_ratio_by_median)\n",
    "total_to_livin_ratio_by_mean = data['living_area'].mean() / data[data['living_area'].isna()]['total_area'].mean()\n",
    "print('Среднее к среднему:', total_to_livin_ratio_by_mean)\n",
    "# Заполняем пропуски\n",
    "data['living_area'] = data['living_area'].fillna(data['total_area'] * total_to_livin_ratio_by_mean)\n",
    "# Округляем до целых значений\n",
    "data['living_area'] = data['living_area'].astype('int')"
   ]
  },
  {
   "cell_type": "markdown",
   "metadata": {},
   "source": [
    "### 'is_apartment'\n",
    "Здесь можно предположить что если это аппартаменты, то продавец отмечает это, а пропуски это вероятнее всего не апартаменты. Поэтому заполним пропуски значением False."
   ]
  },
  {
   "cell_type": "code",
   "execution_count": 7,
   "metadata": {},
   "outputs": [],
   "source": [
    "data['is_apartment'] = data['is_apartment'].fillna(False)"
   ]
  },
  {
   "cell_type": "markdown",
   "metadata": {},
   "source": [
    "### kitchen_area\n",
    "Площадь кухни, в отличии от жилой площади более менее фиксированная. Т.е. у квартиры с площадью 50 метров и 100, площадь кухним вполне может быть одинаковой. Поэтому пропуски заполним медианой."
   ]
  },
  {
   "cell_type": "code",
   "execution_count": 8,
   "metadata": {},
   "outputs": [],
   "source": [
    "kitchen_area_mediana = data[data['kitchen_area'].notna()]['kitchen_area'].median()\n",
    "data['kitchen_area'] = data['kitchen_area'].fillna(kitchen_area_mediana)\n",
    "# для удобства округлим площадь до целых\n",
    "data['kitchen_area'] = data['kitchen_area'].astype('int')"
   ]
  },
  {
   "cell_type": "markdown",
   "metadata": {},
   "source": [
    "### 'balcony'\n",
    "Имеем 11519 пропусков. Согласно гистограммам ниже, видим что вероятность наличия балкона на первом этаже невысокая, а со второго и выше уже ближе к медиане, которая равна 1. Так и заполним пропуски 0 для первого этажа, медиана для остальных."
   ]
  },
  {
   "cell_type": "markdown",
   "metadata": {},
   "source": [
    "\n"
   ]
  },
  {
   "cell_type": "code",
   "execution_count": 9,
   "metadata": {},
   "outputs": [
    {
     "name": "stdout",
     "output_type": "stream",
     "text": [
      "Пропусков balcony 11519\n"
     ]
    },
    {
     "data": {
      "image/png": "[encoded data removed]",
      "text/plain": [
       "<Figure size 432x288 with 1 Axes>"
      ]
     },
     "metadata": {
      "needs_background": "light"
     },
     "output_type": "display_data"
    },
    {
     "data": {
      "image/png": "[encoded data removed]",
      "text/plain": [
       "<Figure size 432x288 with 1 Axes>"
      ]
     },
     "metadata": {
      "needs_background": "light"
     },
     "output_type": "display_data"
    },
    {
     "data": {
      "image/png": "[encoded data removed]",
      "text/plain": [
       "<Figure size 432x288 with 1 Axes>"
      ]
     },
     "metadata": {
      "needs_background": "light"
     },
     "output_type": "display_data"
    }
   ],
   "source": [
    "# Считаем количество пропусков\n",
    "print('Пропусков balcony',data['balcony'].isna().sum())\n",
    "\n",
    "# Считаем медиану\n",
    "median_balcony = data['balcony'].median()\n",
    "\n",
    "# Смотрим вероятность наличия балкона в зависимости от этажа.\n",
    "data[data['floor'] == 1]['balcony'].plot(kind='hist',bins=6, title='Первый этаж')\n",
    "plt.show()\n",
    "data[data['floor'] == 2]['balcony'].plot(kind='hist',bins=6, title='Второй этаж')\n",
    "plt.show()\n",
    "data[data['floor'] > 2]['balcony'].plot(kind='hist',bins=6, title='Третий и выше')\n",
    "plt.show()\n",
    "\n",
    "# Заполняем пропуски\n",
    "def fill_balccony(floor):\n",
    "    if floor < 2:\n",
    "        return 0\n",
    "    else:\n",
    "        return 1\n",
    "    \n",
    "data.loc[data['balcony'].isnull(), 'balcony'] = data['floor'].apply(fill_balccony)\n",
    "data['balcony'] = data['balcony'].astype('int')"
   ]
  },
  {
   "cell_type": "markdown",
   "metadata": {},
   "source": [
    "### locality_name\n",
    "Всего 49 пропусков, и как их заполнить непонятно. Идалим их. Т.к. это поле заполнялось автоматически то здесь проблема была либо при заполнении, либо при выгрузке данных.\n",
    "Оставшиеся значения сгруппируем."
   ]
  },
  {
   "cell_type": "code",
   "execution_count": 10,
   "metadata": {},
   "outputs": [
    {
     "name": "stdout",
     "output_type": "stream",
     "text": [
      "Всего пропусков в locality_name: 49\n",
      "Сгруппированные данные по населенному понкту:\n"
     ]
    },
    {
     "data": {
      "text/plain": [
       "<matplotlib.axes._subplots.AxesSubplot at 0x1240ee850>"
      ]
     },
     "execution_count": 10,
     "metadata": {},
     "output_type": "execute_result"
    },
    {
     "data": {
      "image/png": "[encoded data removed]",
      "text/plain": [
       "<Figure size 432x288 with 1 Axes>"
      ]
     },
     "metadata": {},
     "output_type": "display_data"
    }
   ],
   "source": [
    "print('Всего пропусков в locality_name:',data['locality_name'].isna().sum())\n",
    "data = data.dropna(subset=['locality_name'])\n",
    "stemmer = Mystem()\n",
    "locality_name_str =' '.join(data['locality_name'])\n",
    "locality_name_lst = Counter(stemmer.lemmatize(locality_name_str)).most_common()\n",
    "locality_name_grouped = {'санкт-петербург', 'муриный', 'кудрово', 'шушар', 'всеволожск', \n",
    "                         'пушкин', 'колпино', 'парголовый', 'гатчина', 'выборг', 'петергоф', \n",
    "                         'сестрорецк', 'девяткино', 'сертолово', 'ломоносов', 'бугор', \n",
    "                         'сланцы', 'волхов', 'кириши', 'сосновый', 'кингисепп', 'тосно', \n",
    "                         'кронштадт'}\n",
    "\n",
    "def fill_locality_name(locality_name):\n",
    "    \"\"\" Функция для группировки населенного пункта.\n",
    "    \"\"\"\n",
    "    name_lst = stemmer.lemmatize(locality_name)\n",
    "    for word in name_lst:\n",
    "        if word in locality_name_grouped:\n",
    "            return word\n",
    "        \n",
    "    return 'Другое'\n",
    "    \n",
    "data['locality_name_grouped'] = data['locality_name'].apply(fill_locality_name)\n",
    "print('Сгруппированные данные по населенному понкту:')\n",
    "data['locality_name_grouped'].value_counts().plot(kind='pie')"
   ]
  },
  {
   "cell_type": "markdown",
   "metadata": {},
   "source": [
    "### days_exposition\n",
    "Мы видим, что поле пустое преимущественно для квартир, размещенных в последний отрезок времени, из чего можно сделать вывод, что эти квартиры еще не проданы, поэтому поле пустое. Уберем эти квартиры из выборки.\n"
   ]
  },
  {
   "cell_type": "code",
   "execution_count": 11,
   "metadata": {},
   "outputs": [
    {
     "data": {
      "image/png": "[encoded data removed]",
      "text/plain": [
       "<Figure size 432x288 with 1 Axes>"
      ]
     },
     "metadata": {},
     "output_type": "display_data"
    }
   ],
   "source": [
    "data[data['days_exposition'].isna()]['first_day_exposition'].dt.year.value_counts().plot(kind='pie')\n",
    "plt.show()\n",
    "data = data.dropna(subset=['days_exposition'])"
   ]
  },
  {
   "cell_type": "markdown",
   "metadata": {},
   "source": [
    "### 'airports_nearest', 'cityCenters_nearest', 'parks_around3000', 'parks_nearest', 'ponds_around3000','ponds_nearest'\n",
    "по этим автоматически заполненным полям, очень много пропусков - порядка 5 тысяч. Не хотелось бы заполнять их средними или медианами, т.к. такое количество усреднений может повлиять на статистику. Пока оставлю их незаполненными, но что бы извавиться от NaN укажу в них -1."
   ]
  },
  {
   "cell_type": "code",
   "execution_count": 12,
   "metadata": {
    "scrolled": true
   },
   "outputs": [
    {
     "name": "stdout",
     "output_type": "stream",
     "text": [
      "Гистограмма для столбца: airports_nearest\n"
     ]
    },
    {
     "data": {
      "image/png": "[encoded data removed]",
      "text/plain": [
       "<Figure size 432x288 with 1 Axes>"
      ]
     },
     "metadata": {
      "needs_background": "light"
     },
     "output_type": "display_data"
    },
    {
     "name": "stdout",
     "output_type": "stream",
     "text": [
      "Гистограмма для столбца: cityCenters_nearest\n"
     ]
    },
    {
     "data": {
      "image/png": "[encoded data removed]",
      "text/plain": [
       "<Figure size 432x288 with 1 Axes>"
      ]
     },
     "metadata": {
      "needs_background": "light"
     },
     "output_type": "display_data"
    },
    {
     "name": "stdout",
     "output_type": "stream",
     "text": [
      "Гистограмма для столбца: parks_around3000\n"
     ]
    },
    {
     "data": {
      "image/png": "[encoded data removed]",
      "text/plain": [
       "<Figure size 432x288 with 1 Axes>"
      ]
     },
     "metadata": {
      "needs_background": "light"
     },
     "output_type": "display_data"
    },
    {
     "name": "stdout",
     "output_type": "stream",
     "text": [
      "Гистограмма для столбца: parks_nearest\n"
     ]
    },
    {
     "data": {
      "image/png": "[encoded data removed]",
      "text/plain": [
       "<Figure size 432x288 with 1 Axes>"
      ]
     },
     "metadata": {
      "needs_background": "light"
     },
     "output_type": "display_data"
    },
    {
     "name": "stdout",
     "output_type": "stream",
     "text": [
      "Гистограмма для столбца: ponds_around3000\n"
     ]
    },
    {
     "data": {
      "image/png": "[encoded data removed]",
      "text/plain": [
       "<Figure size 432x288 with 1 Axes>"
      ]
     },
     "metadata": {
      "needs_background": "light"
     },
     "output_type": "display_data"
    },
    {
     "name": "stdout",
     "output_type": "stream",
     "text": [
      "Гистограмма для столбца: ponds_nearest\n"
     ]
    },
    {
     "data": {
      "image/png": "[encoded data removed]",
      "text/plain": [
       "<Figure size 432x288 with 1 Axes>"
      ]
     },
     "metadata": {
      "needs_background": "light"
     },
     "output_type": "display_data"
    }
   ],
   "source": [
    "# Колонки с автозаполнением\n",
    "columns = ['airports_nearest', 'cityCenters_nearest',\n",
    "           'parks_around3000', 'parks_nearest', 'ponds_around3000',\n",
    "           'ponds_nearest']\n",
    "# Значения в метрах, которые нужно перевести в километры\n",
    "to_kilometers = ['airports_nearest', 'cityCenters_nearest']\n",
    "for column in columns:\n",
    "    # Заполним пропуски значением -1\n",
    "    data[column] = data[column].fillna(-1)\n",
    "    # Округлим до километров\n",
    "    if column in to_kilometers:\n",
    "        data.loc[data[column] != -1, column] = data[column] / 1000\n",
    "        data[column] = data[column].astype('int')\n",
    "    print('Гистограмма для столбца:',column)\n",
    "    data[data[column] != -1][column].hist(bins=50)\n",
    "    plt.show()"
   ]
  },
  {
   "cell_type": "markdown",
   "metadata": {},
   "source": [
    "### Шаг 3. Посчитайте и добавьте в таблицу"
   ]
  },
  {
   "cell_type": "code",
   "execution_count": 13,
   "metadata": {},
   "outputs": [],
   "source": [
    "# Считаем цену квадратного метра\n",
    "data['price_for_meter'] = data['last_price'] / data['total_area']\n",
    "\n",
    "# Сгруппируем этаж квартиры\n",
    "def floor_group(row):\n",
    "    if row['floor'] == 1:\n",
    "        return 'Первый'\n",
    "    elif row['floor'] == row['floors_total']:\n",
    "        return 'Последний'\n",
    "    else:\n",
    "        return 'Другое'\n",
    "\n",
    "data['floor_type'] = data.apply(floor_group, axis=1)\n",
    "\n",
    "# Добавляяем соотношение жилой к общей площади и кухни к общей площади\n",
    "data['living_to_total_area'] = data['living_area'] / data['total_area']\n",
    "data['kitchen_to_total_area'] = data['kitchen_area'] / data['total_area']\n",
    "\n",
    "# Добавим год, месяц и день недели, когда квартира была выставлена на продажу\n",
    "data['year'] = data['first_day_exposition'].dt.year\n",
    "data['month'] = data['first_day_exposition'].dt.month\n",
    "data['weekday'] = data['first_day_exposition'].dt.weekday"
   ]
  },
  {
   "cell_type": "markdown",
   "metadata": {},
   "source": [
    "### Шаг 4. Проведите исследовательский анализ данных и выполните инструкции:"
   ]
  },
  {
   "cell_type": "markdown",
   "metadata": {},
   "source": [
    "### total_area\n"
   ]
  },
  {
   "cell_type": "code",
   "execution_count": 14,
   "metadata": {},
   "outputs": [
    {
     "data": {
      "image/png": "[encoded data removed]",
      "text/plain": [
       "<Figure size 432x288 with 1 Axes>"
      ]
     },
     "metadata": {
      "needs_background": "light"
     },
     "output_type": "display_data"
    },
    {
     "name": "stdout",
     "output_type": "stream",
     "text": [
      "Считаем количество выбросов: 1028\n"
     ]
    }
   ],
   "source": [
    "# Построим ящик с усами и найдем выбросы\n",
    "data.boxplot(column=['total_area'])\n",
    "plt.ylim(0,150)\n",
    "plt.show()\n",
    "print('Считаем количество выбросов:',len(data.query('total_area > 110')))"
   ]
  },
  {
   "cell_type": "markdown",
   "metadata": {},
   "source": [
    "### days_exposition"
   ]
  },
  {
   "cell_type": "code",
   "execution_count": 15,
   "metadata": {},
   "outputs": [
    {
     "data": {
      "image/png": "[encoded data removed]",
      "text/plain": [
       "<Figure size 432x288 with 1 Axes>"
      ]
     },
     "metadata": {
      "needs_background": "light"
     },
     "output_type": "display_data"
    },
    {
     "name": "stdout",
     "output_type": "stream",
     "text": [
      "Считаем количество выбросов: 1744\n",
      "Среднее время продажи - 180\n",
      "Медианное время продажи - 95\n"
     ]
    }
   ],
   "source": [
    "# Построим ящик с усами и найдем выбросы\n",
    "data.boxplot(column='days_exposition')\n",
    "plt.ylim(-100, 800)\n",
    "plt.show()\n",
    "print('Считаем количество выбросов:',len(data.query('days_exposition > 500')))\n",
    "print('Среднее время продажи -', int(data['days_exposition'].mean()))\n",
    "print('Медианное время продажи -', int(data['days_exposition'].median()))"
   ]
  },
  {
   "cell_type": "markdown",
   "metadata": {},
   "source": [
    "### Вывод\n",
    "Средняя в два раза больше медианы. Вот что делают аномально большие значения в выбросах. Получается что обычная квартира продается за три месяца."
   ]
  },
  {
   "cell_type": "markdown",
   "metadata": {},
   "source": [
    "### last_price"
   ]
  },
  {
   "cell_type": "code",
   "execution_count": 16,
   "metadata": {},
   "outputs": [
    {
     "data": {
      "image/png": "[encoded data removed]",
      "text/plain": [
       "<Figure size 432x288 with 1 Axes>"
      ]
     },
     "metadata": {
      "needs_background": "light"
     },
     "output_type": "display_data"
    },
    {
     "data": {
      "image/png": "[encoded data removed]",
      "text/plain": [
       "<Figure size 432x288 with 1 Axes>"
      ]
     },
     "metadata": {
      "needs_background": "light"
     },
     "output_type": "display_data"
    },
    {
     "name": "stdout",
     "output_type": "stream",
     "text": [
      "Считаем количество выбросов: 2034\n"
     ]
    }
   ],
   "source": [
    "# Построим ящик с усами и найдем выбросы\n",
    "data['last_price'].hist(bins=100, range=(0,20000000))\n",
    "plt.show()\n",
    "data.boxplot(column='last_price')\n",
    "plt.ylim(0,12000000)\n",
    "plt.show()\n",
    "print('Считаем количество выбросов:',len(data.query('last_price > 10000000')))"
   ]
  },
  {
   "cell_type": "code",
   "execution_count": 17,
   "metadata": {},
   "outputs": [],
   "source": [
    "# Данные без выбросов\n",
    "good_data = data.query('total_area <= 110 and days_exposition <= 500 and last_price <= 10000000')"
   ]
  },
  {
   "cell_type": "markdown",
   "metadata": {},
   "source": [
    "### price_for_meter\n",
    "Цена за квадратный метр без выбросов выглядит очень красиво, почти идеальное нормальное распределение."
   ]
  },
  {
   "cell_type": "code",
   "execution_count": 18,
   "metadata": {},
   "outputs": [
    {
     "data": {
      "image/png": "[encoded data removed]",
      "text/plain": [
       "<Figure size 432x288 with 1 Axes>"
      ]
     },
     "metadata": {
      "needs_background": "light"
     },
     "output_type": "display_data"
    }
   ],
   "source": [
    "good_data['price_for_meter'].hist(bins=100)\n",
    "plt.show()"
   ]
  },
  {
   "cell_type": "markdown",
   "metadata": {},
   "source": [
    "### Сравним время продажи квартиры до удаления выбросов и после"
   ]
  },
  {
   "cell_type": "code",
   "execution_count": 19,
   "metadata": {},
   "outputs": [
    {
     "data": {
      "image/png": "[encoded data removed]",
      "text/plain": [
       "<Figure size 432x288 with 1 Axes>"
      ]
     },
     "metadata": {
      "needs_background": "light"
     },
     "output_type": "display_data"
    },
    {
     "data": {
      "image/png": "[encoded data removed]",
      "text/plain": [
       "<Figure size 432x288 with 1 Axes>"
      ]
     },
     "metadata": {
      "needs_background": "light"
     },
     "output_type": "display_data"
    },
    {
     "data": {
      "text/plain": [
       "count    16943.000000\n",
       "mean       123.348817\n",
       "std        117.499655\n",
       "min          1.000000\n",
       "25%         39.000000\n",
       "50%         79.000000\n",
       "75%        176.000000\n",
       "max        500.000000\n",
       "Name: days_exposition, dtype: float64"
      ]
     },
     "execution_count": 19,
     "metadata": {},
     "output_type": "execute_result"
    }
   ],
   "source": [
    "data['days_exposition'].hist(bins=100)\n",
    "plt.show()\n",
    "good_data['days_exposition'].hist(bins=100)\n",
    "plt.show()\n",
    "good_data['days_exposition'].describe()"
   ]
  },
  {
   "cell_type": "markdown",
   "metadata": {},
   "source": [
    "### Выводы\n",
    "После очистки от выбросов, медиана и средняя по сроку продажи квартиры приблизились друг к другу. Теперь более понятно, что быстрая продажа квартиры это до 40 дней, а относительно долгая это более полугода. А обычно квартира продается за 2,5 месяца. Еще мы видим на графике два странных прика, это 45 дней и 60 дней, возможно это какие-то особенности самого сайта, например через 45 дней объявление уходит из выдачи поисковика, или заканчивается переиод размещения если его не продлить."
   ]
  },
  {
   "cell_type": "markdown",
   "metadata": {},
   "source": [
    "## От чего зависит цена квартиры?"
   ]
  },
  {
   "cell_type": "code",
   "execution_count": 20,
   "metadata": {
    "scrolled": true
   },
   "outputs": [
    {
     "data": {
      "text/plain": [
       "last_price               1.000000\n",
       "total_area               0.671301\n",
       "price_for_meter          0.605071\n",
       "living_area              0.546047\n",
       "rooms                    0.426258\n",
       "kitchen_area             0.408159\n",
       "ponds_around3000         0.402150\n",
       "parks_around3000         0.400093\n",
       "airports_nearest         0.350100\n",
       "ceiling_height           0.297727\n",
       "parks_nearest            0.215211\n",
       "floors_total             0.212684\n",
       "ponds_nearest            0.203791\n",
       "total_images             0.159335\n",
       "floor                    0.144006\n",
       "cityCenters_nearest      0.142734\n",
       "balcony                  0.111593\n",
       "days_exposition          0.033560\n",
       "living_to_total_area     0.030278\n",
       "is_apartment             0.016969\n",
       "year                     0.009667\n",
       "month                    0.004702\n",
       "weekday                 -0.006717\n",
       "open_plan               -0.053570\n",
       "studio                  -0.093035\n",
       "kitchen_to_total_area   -0.182534\n",
       "Name: last_price, dtype: float64"
      ]
     },
     "execution_count": 20,
     "metadata": {},
     "output_type": "execute_result"
    }
   ],
   "source": [
    "good_data.corr().sort_values('last_price', ascending=False)['last_price']"
   ]
  },
  {
   "cell_type": "code",
   "execution_count": 21,
   "metadata": {},
   "outputs": [
    {
     "name": "stdout",
     "output_type": "stream",
     "text": [
      "                       count  median_price\n",
      "locality_name_grouped                     \n",
      "сестрорецк               129       5100000\n",
      "санкт-петербург        10733       4899000\n",
      "пушкин                   255       4700000\n",
      "парголовый               286       4045000\n",
      "шушар                    382       3915000\n",
      "кудрово                  402       3815000\n",
      "петергоф                 154       3594500\n",
      "кронштадт                 79       3590000\n",
      "колпино                  290       3560000\n",
      "девяткино                114       3549500\n",
      "бугор                     97       3400000\n",
      "муриный                  517       3358000\n",
      "всеволожск               304       3350000\n",
      "сосновый                  80       3300000\n",
      "сертолово                108       3275000\n",
      "ломоносов                 94       3190000\n",
      "гатчина                  241       3050000\n",
      "тосно                     87       2900000\n",
      "выборг                   189       2750000\n",
      "Другое                  2059       2400000\n",
      "кингисепп                 90       2300000\n",
      "кириши                    89       1720000\n",
      "волхов                    81       1550000\n",
      "сланцы                    83        850000\n",
      "            count  median_price\n",
      "floor_type                     \n",
      "Другое      12528       4400000\n",
      "Последний    2282       3950000\n",
      "Первый       2133       3699000\n"
     ]
    }
   ],
   "source": [
    "not_digit_columns = ['locality_name_grouped', 'floor_type']\n",
    "for column in not_digit_columns:\n",
    "    pvt = good_data.pivot_table(index=column, values='last_price', \n",
    "                                aggfunc=['count','median'])\n",
    "    pvt.columns = ['count', 'median_price']\n",
    "    print(pvt.sort_values('median_price', ascending=False))"
   ]
  },
  {
   "cell_type": "markdown",
   "metadata": {},
   "source": [
    "### Выводы\n",
    "Основные параметры, влияющие на цену, в целом предсказуемы: площадь, цена за метр, количество комнат, высота потолка. Первый и последний этажи стоят дешевле остальных.\n",
    "\n",
    "Так же есть ряд важных параметров, которые были не так очевидны - это наличие рядом парка или пруда, близость к аэропорту. Ну и пришлось погуглить что же такое Сестрорецк, квартиры в котором дороже чем в Питере) Это оказалалсь курортная часть тогоже Питера. "
   ]
  },
  {
   "cell_type": "markdown",
   "metadata": {},
   "source": [
    "### Средняя цена за квадратный метр в зависимости от населенного пункта"
   ]
  },
  {
   "cell_type": "code",
   "execution_count": 22,
   "metadata": {},
   "outputs": [
    {
     "name": "stdout",
     "output_type": "stream",
     "text": [
      "                       count  mean_price_for_meter\n",
      "locality_name_grouped                             \n",
      "санкт-петербург        10733         103531.022318\n",
      "Другое                  2059          53461.763770\n",
      "муриный                  517          85983.765190\n",
      "кудрово                  402          94516.855748\n",
      "шушар                    382          77964.172000\n",
      "всеволожск               304          66579.535635\n",
      "колпино                  290          74538.679670\n",
      "парголовый               286          89360.980969\n",
      "пушкин                   255          98990.490340\n",
      "гатчина                  241          68275.333827 \n",
      "\n",
      "                   count  mean_price_for_meter\n",
      "locality_name                                 \n",
      "Санкт-Петербург    10733         103531.022318\n",
      "посёлок Мурино       485          86070.054278\n",
      "посёлок Шушары       382          77964.172000\n",
      "Всеволожск           304          66579.535635\n",
      "Колпино              290          74538.679670\n",
      "посёлок Парголово    286          89360.980969\n",
      "деревня Кудрово      264          92567.659816\n",
      "Пушкин               255          98990.490340\n",
      "Гатчина              241          68275.333827\n",
      "Выборг               189          57237.180700 \n",
      "\n"
     ]
    }
   ],
   "source": [
    "for column in ['locality_name_grouped','locality_name']:\n",
    "    pvt = good_data.pivot_table(index=column, values='price_for_meter', \n",
    "                                    aggfunc=['count','mean'])\n",
    "    pvt.columns = ['count', 'mean_price_for_meter']\n",
    "    print(pvt.sort_values('count', ascending=False)[:10], '\\n')"
   ]
  },
  {
   "cell_type": "markdown",
   "metadata": {},
   "source": [
    "### Вывод\n",
    "В Санкт-Петербурге цена квадратного метра выше, но в некоторых соседних городах цена вполне сравнима."
   ]
  },
  {
   "cell_type": "markdown",
   "metadata": {},
   "source": [
    "### Изменение цены в зависимости от удаленности от центра."
   ]
  },
  {
   "cell_type": "code",
   "execution_count": 23,
   "metadata": {},
   "outputs": [
    {
     "data": {
      "image/png": "[encoded data removed]",
      "text/plain": [
       "<Figure size 1152x576 with 1 Axes>"
      ]
     },
     "metadata": {
      "needs_background": "light"
     },
     "output_type": "display_data"
    }
   ],
   "source": [
    "piter_data = good_data.query(\n",
    "    'locality_name_grouped == \"санкт-петербург\" and cityCenters_nearest != -1')\n",
    "pvt = piter_data.pivot_table(index='cityCenters_nearest', values='last_price',\n",
    "                             aggfunc='mean')\n",
    "pvt.plot(kind='bar', figsize=(16,8))\n",
    "plt.show()"
   ]
  },
  {
   "cell_type": "markdown",
   "metadata": {},
   "source": [
    "### Вывод\n",
    "На графике можно увидеть что в пределах 5 километров от центра (часе ходьбы), квартиры стоят в среднем 7 миллионов и выше. Дальше цена начинает постепенно падать и в отдаленных районах стоит в срденем порядка 2 миллионов."
   ]
  },
  {
   "cell_type": "markdown",
   "metadata": {},
   "source": [
    "### Проанализируем центр города в сравнении со всем городом"
   ]
  },
  {
   "cell_type": "code",
   "execution_count": 24,
   "metadata": {},
   "outputs": [
    {
     "data": {
      "text/html": [
       "<div>\n",
       "<style scoped>\n",
       "    .dataframe tbody tr th:only-of-type {\n",
       "        vertical-align: middle;\n",
       "    }\n",
       "\n",
       "    .dataframe tbody tr th {\n",
       "        vertical-align: top;\n",
       "    }\n",
       "\n",
       "    .dataframe thead th {\n",
       "        text-align: right;\n",
       "    }\n",
       "</style>\n",
       "<table border=\"1\" class=\"dataframe\">\n",
       "  <thead>\n",
       "    <tr style=\"text-align: right;\">\n",
       "      <th></th>\n",
       "      <th>piter_data</th>\n",
       "      <th>piter_center_data</th>\n",
       "      <th>diff</th>\n",
       "    </tr>\n",
       "  </thead>\n",
       "  <tbody>\n",
       "    <tr>\n",
       "      <td>cityCenters_nearest</td>\n",
       "      <td>-0.320910</td>\n",
       "      <td>-0.064060</td>\n",
       "      <td>0.256850</td>\n",
       "    </tr>\n",
       "    <tr>\n",
       "      <td>floor</td>\n",
       "      <td>0.064210</td>\n",
       "      <td>0.159385</td>\n",
       "      <td>0.095175</td>\n",
       "    </tr>\n",
       "    <tr>\n",
       "      <td>days_exposition</td>\n",
       "      <td>0.080561</td>\n",
       "      <td>0.138754</td>\n",
       "      <td>0.058193</td>\n",
       "    </tr>\n",
       "    <tr>\n",
       "      <td>weekday</td>\n",
       "      <td>0.006547</td>\n",
       "      <td>0.041405</td>\n",
       "      <td>0.034858</td>\n",
       "    </tr>\n",
       "    <tr>\n",
       "      <td>airports_nearest</td>\n",
       "      <td>0.001863</td>\n",
       "      <td>0.027074</td>\n",
       "      <td>0.025212</td>\n",
       "    </tr>\n",
       "    <tr>\n",
       "      <td>year</td>\n",
       "      <td>0.029399</td>\n",
       "      <td>0.034636</td>\n",
       "      <td>0.005237</td>\n",
       "    </tr>\n",
       "    <tr>\n",
       "      <td>balcony</td>\n",
       "      <td>0.113194</td>\n",
       "      <td>0.116401</td>\n",
       "      <td>0.003207</td>\n",
       "    </tr>\n",
       "    <tr>\n",
       "      <td>last_price</td>\n",
       "      <td>1.000000</td>\n",
       "      <td>1.000000</td>\n",
       "      <td>0.000000</td>\n",
       "    </tr>\n",
       "    <tr>\n",
       "      <td>parks_around3000</td>\n",
       "      <td>0.100278</td>\n",
       "      <td>0.092128</td>\n",
       "      <td>-0.008150</td>\n",
       "    </tr>\n",
       "    <tr>\n",
       "      <td>is_apartment</td>\n",
       "      <td>0.005713</td>\n",
       "      <td>-0.009427</td>\n",
       "      <td>-0.015139</td>\n",
       "    </tr>\n",
       "    <tr>\n",
       "      <td>parks_nearest</td>\n",
       "      <td>0.071438</td>\n",
       "      <td>0.049778</td>\n",
       "      <td>-0.021660</td>\n",
       "    </tr>\n",
       "    <tr>\n",
       "      <td>floors_total</td>\n",
       "      <td>0.096505</td>\n",
       "      <td>0.074302</td>\n",
       "      <td>-0.022202</td>\n",
       "    </tr>\n",
       "    <tr>\n",
       "      <td>living_to_total_area</td>\n",
       "      <td>0.055068</td>\n",
       "      <td>0.029799</td>\n",
       "      <td>-0.025269</td>\n",
       "    </tr>\n",
       "    <tr>\n",
       "      <td>open_plan</td>\n",
       "      <td>-0.056668</td>\n",
       "      <td>-0.097754</td>\n",
       "      <td>-0.041086</td>\n",
       "    </tr>\n",
       "    <tr>\n",
       "      <td>studio</td>\n",
       "      <td>-0.104397</td>\n",
       "      <td>-0.148802</td>\n",
       "      <td>-0.044405</td>\n",
       "    </tr>\n",
       "    <tr>\n",
       "      <td>rooms</td>\n",
       "      <td>0.500475</td>\n",
       "      <td>0.455385</td>\n",
       "      <td>-0.045090</td>\n",
       "    </tr>\n",
       "    <tr>\n",
       "      <td>total_images</td>\n",
       "      <td>0.142112</td>\n",
       "      <td>0.092967</td>\n",
       "      <td>-0.049145</td>\n",
       "    </tr>\n",
       "    <tr>\n",
       "      <td>kitchen_to_total_area</td>\n",
       "      <td>-0.232114</td>\n",
       "      <td>-0.286230</td>\n",
       "      <td>-0.054117</td>\n",
       "    </tr>\n",
       "    <tr>\n",
       "      <td>ponds_nearest</td>\n",
       "      <td>0.026027</td>\n",
       "      <td>-0.028794</td>\n",
       "      <td>-0.054821</td>\n",
       "    </tr>\n",
       "    <tr>\n",
       "      <td>month</td>\n",
       "      <td>-0.006552</td>\n",
       "      <td>-0.065492</td>\n",
       "      <td>-0.058941</td>\n",
       "    </tr>\n",
       "    <tr>\n",
       "      <td>living_area</td>\n",
       "      <td>0.641377</td>\n",
       "      <td>0.570965</td>\n",
       "      <td>-0.070412</td>\n",
       "    </tr>\n",
       "    <tr>\n",
       "      <td>total_area</td>\n",
       "      <td>0.784054</td>\n",
       "      <td>0.688024</td>\n",
       "      <td>-0.096029</td>\n",
       "    </tr>\n",
       "    <tr>\n",
       "      <td>kitchen_area</td>\n",
       "      <td>0.456535</td>\n",
       "      <td>0.327118</td>\n",
       "      <td>-0.129416</td>\n",
       "    </tr>\n",
       "    <tr>\n",
       "      <td>ponds_around3000</td>\n",
       "      <td>0.132105</td>\n",
       "      <td>-0.057511</td>\n",
       "      <td>-0.189616</td>\n",
       "    </tr>\n",
       "    <tr>\n",
       "      <td>price_for_meter</td>\n",
       "      <td>0.353263</td>\n",
       "      <td>0.128185</td>\n",
       "      <td>-0.225078</td>\n",
       "    </tr>\n",
       "    <tr>\n",
       "      <td>ceiling_height</td>\n",
       "      <td>0.322247</td>\n",
       "      <td>0.091532</td>\n",
       "      <td>-0.230716</td>\n",
       "    </tr>\n",
       "  </tbody>\n",
       "</table>\n",
       "</div>"
      ],
      "text/plain": [
       "                       piter_data  piter_center_data      diff\n",
       "cityCenters_nearest     -0.320910          -0.064060  0.256850\n",
       "floor                    0.064210           0.159385  0.095175\n",
       "days_exposition          0.080561           0.138754  0.058193\n",
       "weekday                  0.006547           0.041405  0.034858\n",
       "airports_nearest         0.001863           0.027074  0.025212\n",
       "year                     0.029399           0.034636  0.005237\n",
       "balcony                  0.113194           0.116401  0.003207\n",
       "last_price               1.000000           1.000000  0.000000\n",
       "parks_around3000         0.100278           0.092128 -0.008150\n",
       "is_apartment             0.005713          -0.009427 -0.015139\n",
       "parks_nearest            0.071438           0.049778 -0.021660\n",
       "floors_total             0.096505           0.074302 -0.022202\n",
       "living_to_total_area     0.055068           0.029799 -0.025269\n",
       "open_plan               -0.056668          -0.097754 -0.041086\n",
       "studio                  -0.104397          -0.148802 -0.044405\n",
       "rooms                    0.500475           0.455385 -0.045090\n",
       "total_images             0.142112           0.092967 -0.049145\n",
       "kitchen_to_total_area   -0.232114          -0.286230 -0.054117\n",
       "ponds_nearest            0.026027          -0.028794 -0.054821\n",
       "month                   -0.006552          -0.065492 -0.058941\n",
       "living_area              0.641377           0.570965 -0.070412\n",
       "total_area               0.784054           0.688024 -0.096029\n",
       "kitchen_area             0.456535           0.327118 -0.129416\n",
       "ponds_around3000         0.132105          -0.057511 -0.189616\n",
       "price_for_meter          0.353263           0.128185 -0.225078\n",
       "ceiling_height           0.322247           0.091532 -0.230716"
      ]
     },
     "execution_count": 24,
     "metadata": {},
     "output_type": "execute_result"
    }
   ],
   "source": [
    "piter_data_corr = piter_data.corr().sort_values('last_price', ascending=False)['last_price']\n",
    "piter_center_data = piter_data.query('cityCenters_nearest <= 5')\n",
    "piter_center_data_corr = piter_center_data.corr().sort_values('last_price', ascending=False)['last_price']\n",
    "piter_compare = pd.concat([piter_data_corr, piter_center_data_corr], axis=1,sort=False) \n",
    "piter_compare.columns = ['piter_data','piter_center_data']\n",
    "piter_compare['diff'] = piter_compare['piter_center_data'] - piter_compare['piter_data']\n",
    "piter_compare.sort_values('diff', ascending=False)"
   ]
  },
  {
   "cell_type": "code",
   "execution_count": 25,
   "metadata": {},
   "outputs": [
    {
     "name": "stdout",
     "output_type": "stream",
     "text": [
      "total_area piter_data vs piter_center_data\n",
      "Медиана равна - 48.0\n"
     ]
    },
    {
     "data": {
      "image/png": "[encoded data removed]",
      "text/plain": [
       "<Figure size 1152x576 with 1 Axes>"
      ]
     },
     "metadata": {
      "needs_background": "light"
     },
     "output_type": "display_data"
    },
    {
     "name": "stdout",
     "output_type": "stream",
     "text": [
      "Медиана равна - 61.0\n"
     ]
    },
    {
     "data": {
      "image/png": "[encoded data removed]",
      "text/plain": [
       "<Figure size 1152x576 with 1 Axes>"
      ]
     },
     "metadata": {
      "needs_background": "light"
     },
     "output_type": "display_data"
    },
    {
     "name": "stdout",
     "output_type": "stream",
     "text": [
      "last_price piter_data vs piter_center_data\n",
      "Медиана равна - 4899000.0\n"
     ]
    },
    {
     "data": {
      "image/png": "[encoded data removed]",
      "text/plain": [
       "<Figure size 1152x576 with 1 Axes>"
      ]
     },
     "metadata": {
      "needs_background": "light"
     },
     "output_type": "display_data"
    },
    {
     "name": "stdout",
     "output_type": "stream",
     "text": [
      "Медиана равна - 6900000.0\n"
     ]
    },
    {
     "data": {
      "image/png": "[encoded data removed]",
      "text/plain": [
       "<Figure size 1152x576 with 1 Axes>"
      ]
     },
     "metadata": {
      "needs_background": "light"
     },
     "output_type": "display_data"
    },
    {
     "name": "stdout",
     "output_type": "stream",
     "text": [
      "rooms piter_data vs piter_center_data\n",
      "Медиана равна - 2.0\n"
     ]
    },
    {
     "data": {
      "image/png": "[encoded data removed]",
      "text/plain": [
       "<Figure size 1152x576 with 1 Axes>"
      ]
     },
     "metadata": {
      "needs_background": "light"
     },
     "output_type": "display_data"
    },
    {
     "name": "stdout",
     "output_type": "stream",
     "text": [
      "Медиана равна - 2.0\n"
     ]
    },
    {
     "data": {
      "image/png": "[encoded data removed]",
      "text/plain": [
       "<Figure size 1152x576 with 1 Axes>"
      ]
     },
     "metadata": {
      "needs_background": "light"
     },
     "output_type": "display_data"
    },
    {
     "name": "stdout",
     "output_type": "stream",
     "text": [
      "ceiling_height piter_data vs piter_center_data\n",
      "Медиана равна - 2.64\n"
     ]
    },
    {
     "data": {
      "image/png": "[encoded data removed]",
      "text/plain": [
       "<Figure size 1152x576 with 1 Axes>"
      ]
     },
     "metadata": {
      "needs_background": "light"
     },
     "output_type": "display_data"
    },
    {
     "name": "stdout",
     "output_type": "stream",
     "text": [
      "Медиана равна - 2.64\n"
     ]
    },
    {
     "data": {
      "image/png": "[encoded data removed]",
      "text/plain": [
       "<Figure size 1152x576 with 1 Axes>"
      ]
     },
     "metadata": {
      "needs_background": "light"
     },
     "output_type": "display_data"
    }
   ],
   "source": [
    "columns_for_compare = ['total_area', 'last_price', 'rooms', 'ceiling_height']\n",
    "for column in columns_for_compare:\n",
    "    print(column, 'piter_data vs piter_center_data')\n",
    "    for dataset in [piter_data, piter_center_data]:\n",
    "        print('Медиана равна -', dataset[column].median())\n",
    "        dataset[column].hist(bins=100, figsize=(16,8))\n",
    "        plt.show()"
   ]
  },
  {
   "cell_type": "code",
   "execution_count": 37,
   "metadata": {},
   "outputs": [
    {
     "data": {
      "image/png": "[encoded data removed]",
      "text/plain": [
       "<Figure size 1152x576 with 9 Axes>"
      ]
     },
     "metadata": {
      "needs_background": "light"
     },
     "output_type": "display_data"
    }
   ],
   "source": [
    "good_data.loc[\n",
    "    (good_data['airports_nearest'] != -1) & (good_data['floors_total'] < 30), \n",
    "    ['last_price', 'total_area', 'ceiling_height', 'floors_total', 'living_area', 'airports_nearest', 'cityCenters_nearest']\n",
    "].hist(bins=100, figsize=(16,8))\n",
    "plt.show()"
   ]
  },
  {
   "cell_type": "markdown",
   "metadata": {},
   "source": [
    "### Выводы\n",
    "В центре Санкт-Петербурга мы видим что средняя площадь квартир больше, средняя цена квартиры выше. \n",
    "Если брать весь город, то самая популярная это однокомнатная квартира, в центра - двухкомнатная. А вот высота потолков отличается не сильно.\n",
    "\n",
    "Что касается сравнения кореляции с другими параметрами, то можно сказать что в центре города на цену влияют почти те же самы параменты, отклонения не значительные."
   ]
  },
  {
   "cell_type": "markdown",
   "metadata": {},
   "source": [
    "### Шаг 5. Общий вывод"
   ]
  },
  {
   "cell_type": "markdown",
   "metadata": {},
   "source": [
    "Основные параметры, влияющие на цену, в целом предсказуемы: площадь, цена за метр, количество комнат, высота потолка. Первый и последний этажи стоят дешевле остальных.\n",
    "Так же есть ряд важных параметров, которые были не так очевидны - это наличие рядом парка или пруда, близость к аэропорту.\n",
    "В Питере цены выше чем за пределами города.\n",
    "В центре города квартиры дороже, средняя площадь больше."
   ]
  },
  {
   "cell_type": "markdown",
   "metadata": {},
   "source": [
    "### Чек-лист готовности проекта\n",
    "\n",
    "Поставьте 'x' в выполненных пунктах. Далее нажмите Shift+Enter."
   ]
  },
  {
   "cell_type": "markdown",
   "metadata": {},
   "source": [
    "- [x]  открыт файл\n",
    "- [x]  файлы изучены (выведены первые строки, метод info())\n",
    "- [x]  определены пропущенные значения\n",
    "- [x]  заполнены пропущенные значения\n",
    "- [x]  есть пояснение, какие пропущенные значения обнаружены\n",
    "- [x]  изменены типы данных\n",
    "- [x]  есть пояснение, в каких столбцах изменены типы и почему\n",
    "- [x]  посчитано и добавлено в таблицу: цена квадратного метра\n",
    "- [x]  посчитано и добавлено в таблицу: день недели, месяц и год публикации объявления\n",
    "- [x]  посчитано и добавлено в таблицу: этаж квартиры; варианты — первый, последний, другой\n",
    "- [x]  посчитано и добавлено в таблицу: соотношение жилой и общей площади, а также отношение площади кухни к общей\n",
    "- [x]  изучены следующие параметры: площадь, цена, число комнат, высота потолков\n",
    "- [x]  построены гистограммы для каждого параметра\n",
    "- [x]  выполнено задание: \"Изучите время продажи квартиры. Постройте гистограмму. Посчитайте среднее и медиану. Опишите, сколько обычно занимает продажа. Когда можно считать, что продажи прошли очень быстро, а когда необычно долго?\"\n",
    "- [x]  выполнено задание: \"Уберите редкие и выбивающиеся значения. Опишите, какие особенности обнаружили.\"\n",
    "- [x]  выполнено задание: \"Какие факторы больше всего влияют на стоимость квартиры? Изучите, зависит ли цена от квадратного метра, числа комнат, этажа (первого или последнего), удалённости от центра. Также изучите зависимость от даты размещения: дня недели, месяца и года. \"Выберите 10 населённых пунктов с наибольшим числом объявлений. Посчитайте среднюю цену квадратного метра в этих населённых пунктах. Выделите населённые пункты с самой высокой и низкой стоимостью жилья. Эти данные можно найти по имени в столбце '*locality_name'*. \"\n",
    "- [x]  выполнено задание: \"Изучите предложения квартир: для каждой квартиры есть информация о расстоянии до центра. Выделите квартиры в Санкт-Петербурге (*'locality_name'*). Ваша задача — выяснить, какая область входит в центр. Создайте столбец с расстоянием до центра в километрах: округлите до целых значений. После этого посчитайте среднюю цену для каждого километра. Постройте график: он должен показывать, как цена зависит от удалённости от центра. Определите границу, где график сильно меняется — это и будет центральная зона. \"\n",
    "- [x]  выполнено задание: \"Выделите сегмент квартир в центре. Проанализируйте эту территорию и изучите следующие параметры: площадь, цена, число комнат, высота потолков. Также выделите факторы, которые влияют на стоимость квартиры (число комнат, этаж, удалённость от центра, дата размещения объявления). Сделайте выводы. Отличаются ли они от общих выводов по всему городу?\"\n",
    "- [x]  в каждом этапе есть выводы\n",
    "- [x]  есть общий вывод"
   ]
  }
 ],
 "metadata": {
  "kernelspec": {
   "display_name": "Python 3",
   "language": "python",
   "name": "python3"
  },
  "language_info": {
   "codemirror_mode": {
    "name": "ipython",
    "version": 3
   },
   "file_extension": ".py",
   "mimetype": "text/x-python",
   "name": "python",
   "nbconvert_exporter": "python",
   "pygments_lexer": "ipython3",
   "version": "3.7.4"
  }
 },
 "nbformat": 4,
 "nbformat_minor": 2
}
